{
 "cells": [
  {
   "cell_type": "markdown",
   "id": "4fefac45",
   "metadata": {},
   "source": [
    "# Projeto Análise de Dados dos Homônimos\n",
    "\n",
    "Tarefas:\n",
    "- Importar Resultado Final da Competência\n",
    "- Importar base de dados do MS (Rejeitadas e Aprovadas)\n",
    "- Cruzamento e análises"
   ]
  },
  {
   "cell_type": "code",
   "execution_count": 1,
   "id": "9707d308",
   "metadata": {},
   "outputs": [
    {
     "name": "stdout",
     "output_type": "stream",
     "text": [
      "Planilhas carregadas!\n",
      "Qual competência foi auditada (aaaamm)? 202307\n",
      "\n",
      " Planilha GEPRO salva!\n",
      "\n",
      " Planilha Hospitais salva!\n",
      "\n",
      " Aba Bloqueadas pronta!\n",
      "03/2023    1938\n",
      "05/2023    1675\n",
      "04/2023    1668\n",
      "02/2023    1403\n",
      "06/2023    1388\n",
      "01/2023    1199\n",
      "Name: COMPETENCIA, dtype: int64\n",
      "Qual competência a ser eliminada? 01/2023\n",
      "\n",
      " Histórico atualizado!\n"
     ]
    }
   ],
   "source": [
    "# Importar biblioteca Pandas\n",
    "import pandas as pd\n",
    "\n",
    "# Identificação e carregamento dos arquivos\n",
    "caminho = \"\\\" + str(input('Qual a pasta com os arquivos? '))\n",
    "# final = pd.read_excel(caminho + str(input(\"Nome da planilha de Homônimos analisados: \")) + '.xlsx', index_col=0)\n",
    "final = pd.read_excel(caminho + 'Homonimos_Final_Comp_06-23_Fpolis' + '.xlsx', index_col=0)\n",
    "rejeitdas = pd.read_excel(caminho + 'RJSC2306' + '.xlsx')\n",
    "aprovadas = pd.read_excel(caminho + 'RDSC2306' + '.xlsx')\n",
    "motivos = pd.read_excel(caminho + 'MotErro' + '.xlsx')\n",
    "\n",
    "print('Planilhas carregadas!')\n"
   ]
  },
  {
   "cell_type": "code",
   "execution_count": 2,
   "id": "2066c1ba",
   "metadata": {
    "scrolled": true
   },
   "outputs": [
    {
     "name": "stdout",
     "output_type": "stream",
     "text": [
      "Arquivo PDF salvo para o auditor Fatima: RMP_202305_Fatima.pdf\n",
      "Arquivo PDF salvo para o auditor Guilherme: RMP_202305_Guilherme.pdf\n",
      "Arquivo PDF salvo para o auditor Julio: RMP_202305_Julio.pdf\n",
      "Arquivo PDF salvo para o auditor Marcelo: RMP_202305_Marcelo.pdf\n",
      "Arquivo PDF salvo para o auditor Orlando: RMP_202305_Orlando.pdf\n",
      "Arquivo PDF salvo para o auditor Simone: RMP_202305_Simone.pdf\n"
     ]
    }
   ],
   "source": [
    "\n",
    "# Gerar planilha para GEPRO/Tadeu\n",
    "tadeu = final.copy() \n",
    "tadeu.rename(columns = {'COMPETENCIA': 'AH_CMPT'}, inplace = True)\n",
    "competencia = str(input('Qual competência foi auditada (aaaamm)? '))\n",
    "tadeu.AH_CMPT = competencia\n",
    "tadeu.to_excel(caminho + \"Retorno GEPRO \" + competencia + \".xlsx\")\n",
    "print('\\n Planilha GEPRO salva!')\n",
    "\n",
    "# Gerar planilhas para hospitais\n",
    "hospitais = final.loc[(final['ANALISE'] != 'AIH NÃO ENCONTRADA') &\n",
    "                      (final['ANALISE'] != 'APROVADA EM OUTRO PROCESSAMENTO') &\n",
    "                      (final['ANALISE'] != 'LIBERADA')].copy()\n",
    "hospitais = hospitais.drop(columns=['NOME_PACIENTE', 'IDADE', 'NASCIMENTO', 'NOME_MAE', 'Origem'])\n",
    "writer = pd.ExcelWriter(caminho + \"Retorno hospitais \" + competencia + \".xlsx\", engine='xlsxwriter')\n",
    "auditores.to_excel(writer, sheet_name='Auditores')\n",
    "hospitais.to_excel(writer, sheet_name='Bloqueadas')\n",
    "writer.close()\n",
    "print('\\n Planilha Hospitais salva!')\n",
    "\n",
    "# Gerar aba \"Bloqueadas\"\n",
    "bloqueadas = final.loc[(final['ANALISE'] != 'LIBERADA') &\n",
    "                       (final['COMPETENCIA'] != '04/2023') &    #automatizar futuramente\n",
    "                       (final['Motivo (Preencher com justificativa para o bloqueio / cancelamento)'].notna())\n",
    "].copy()\n",
    "print('\\n Aba Bloqueadas pronta!')\n",
    "\n",
    "# Gerar aba \"Histórico\"\n",
    "print(historico.COMPETENCIA.value_counts())\n",
    "filtro = historico['COMPETENCIA']!=(str(input('Qual competência a ser eliminada? ')))\n",
    "competencias = historico[filtro].copy()\n",
    "historicoCompleto = pd.concat([competencias, final], ignore_index=True)\n",
    "\n",
    "# Gerar planilhas para RPM Auditores\n",
    "#individuais = final[['NUM_AIH', 'PRONTUARIO', 'COMPETENCIA', 'HOSPITAL', 'AUDITOR', 'ANALISE']].copy()\n",
    "#for auditor in individuais['AUDITOR']:\n",
    "    \n",
    "\n",
    "# Agregar abas e gerar planilha final\n",
    "writer = pd.ExcelWriter(caminho + \"Resultado Final Homônimos - Comp 07_23 - Proc 08_23.xlsx\", engine='xlsxwriter')\n",
    "auditores.to_excel(writer, sheet_name='Auditores')\n",
    "bloqueadas.to_excel(writer, sheet_name='Bloqueadas')\n",
    "hospitais.to_excel(writer, sheet_name='Hospitais')\n",
    "historicoCompleto.to_excel(writer, sheet_name='Historico')\n",
    "writer.close()\n",
    "print('\\n Histórico atualizado!')"
   ]
  },
  {
   "cell_type": "code",
   "execution_count": 2,
   "id": "04ac81e8",
   "metadata": {},
   "outputs": [
    {
     "ename": "ModuleNotFoundError",
     "evalue": "No module named 'datasus'",
     "output_type": "error",
     "traceback": [
      "\u001b[1;31m---------------------------------------------------------------------------\u001b[0m",
      "\u001b[1;31mModuleNotFoundError\u001b[0m                       Traceback (most recent call last)",
      "Cell \u001b[1;32mIn[2], line 1\u001b[0m\n\u001b[1;32m----> 1\u001b[0m \u001b[38;5;28;01mfrom\u001b[39;00m \u001b[38;5;21;01mdatasus\u001b[39;00m \u001b[38;5;28;01mimport\u001b[39;00m read_dbc\n",
      "\u001b[1;31mModuleNotFoundError\u001b[0m: No module named 'datasus'"
     ]
    }
   ],
   "source": [
    "from datasus import read_dbc"
   ]
  },
  {
   "cell_type": "markdown",
   "id": "f5ad24f8",
   "metadata": {},
   "source": [
    "Próximos desafios:\n",
    "- Automatizar "
   ]
  }
 ],
 "metadata": {
  "kernelspec": {
   "display_name": "Python 3 (ipykernel)",
   "language": "python",
   "name": "python3"
  },
  "language_info": {
   "codemirror_mode": {
    "name": "ipython",
    "version": 3
   },
   "file_extension": ".py",
   "mimetype": "text/x-python",
   "name": "python",
   "nbconvert_exporter": "python",
   "pygments_lexer": "ipython3",
   "version": "3.11.4"
  }
 },
 "nbformat": 4,
 "nbformat_minor": 5
}
